{
 "cells": [
  {
   "cell_type": "code",
   "execution_count": null,
   "id": "83b38f66",
   "metadata": {},
   "outputs": [],
   "source": [
    "1. What are the key tasks involved in getting ready to work with machine learning modeling?"
   ]
  },
  {
   "cell_type": "markdown",
   "id": "5bcc7622",
   "metadata": {},
   "source": [
    "1) Define the problem: Clearly define the problem you are trying to solve and the goals you want to achieve.\n",
    "\n",
    "2) Collect and preprocess data: Gather and clean the data you will use to train and test your model. This involves tasks such as removing missing values, dealing with outliers, and transforming data into the appropriate format.\n",
    "\n",
    "3) Feature engineering: Extract relevant features from the data that will help your model learn patterns and make accurate predictions.\n",
    "\n",
    "4) Split data into training and testing sets: Divide your data into two sets, one for training the model and one for testing its performance.\n",
    "\n",
    "5) Select and train a model: Choose an appropriate machine learning algorithm and train it on the training data.\n",
    "\n",
    "6) Evaluate and fine-tune the model: Evaluate the model's performance on the testing data, adjust its parameters, and repeat the process until you achieve satisfactory results.\n",
    "\n",
    "7) Deploy the model: Integrate the model into your application or system so that it can make predictions on new, unseen data"
   ]
  },
  {
   "cell_type": "code",
   "execution_count": null,
   "id": "0f5a9647",
   "metadata": {},
   "outputs": [],
   "source": [
    "**********************************************************************************************************************************"
   ]
  },
  {
   "cell_type": "code",
   "execution_count": null,
   "id": "30935279",
   "metadata": {},
   "outputs": [],
   "source": [
    "2. What are the different forms of data used in machine learning? Give a specific example for each of\n",
    "them."
   ]
  },
  {
   "cell_type": "markdown",
   "id": "3d749bb9",
   "metadata": {},
   "source": [
    "1) Numerical Data: It is a type of data that consists of numbers and can be either continuous or discrete. Examples include age, temperature, and height.\n",
    "Example: predicting the price of a house based on its area and the number of rooms.\n",
    "\n",
    "2) Categorical Data: It is a type of data that consists of categories or labels. Examples include gender, color, and occupation.\n",
    "Example: predicting the likelihood of a customer buying a product based on their occupation.\n",
    "\n",
    "3) Text Data: It is a type of data that consists of textual information such as sentences, paragraphs, or documents. Examples include emails, tweets, and product reviews.\n",
    "Example: analyzing customer feedback to determine common themes and improve product quality.\n",
    "\n",
    "4) Image Data: It is a type of data that consists of visual information in the form of images or videos. Examples include photographs, x-rays, and satellite images.\n",
    "Example: classifying images of animals based on their species using a convolutional neural network."
   ]
  },
  {
   "cell_type": "code",
   "execution_count": null,
   "id": "b1f1f475",
   "metadata": {},
   "outputs": [],
   "source": [
    "**********************************************************************************************************************************"
   ]
  },
  {
   "cell_type": "code",
   "execution_count": null,
   "id": "b1a7cb64",
   "metadata": {},
   "outputs": [],
   "source": [
    "3. Distinguish:\n",
    "\n",
    "1. Numeric vs. categorical attributes\n",
    "\n",
    "2. Feature selection vs. dimensionality reduction"
   ]
  },
  {
   "cell_type": "markdown",
   "id": "8b1260ca",
   "metadata": {},
   "source": [
    "In machine learning, numeric attributes are features that represent quantitative or continuous data, such as age, height, weight, and income. They can take on any numerical value within a range and can be used in mathematical calculations.\n",
    "\n",
    "Categorical attributes, on the other hand, represent qualitative or discrete data, such as color, gender, occupation, and nationality. They have a limited set of possible values, and mathematical calculations cannot be performed on them without first converting them into numeric form."
   ]
  },
  {
   "cell_type": "markdown",
   "id": "8da1a64c",
   "metadata": {},
   "source": [
    "Feature selection: This technique involves selecting a subset of the original features that are most relevant to the problem at hand. The goal is to improve model performance by reducing the noise and redundancy in the data. Feature selection methods include filter methods, wrapper methods, and embedded methods.\n",
    "\n",
    "Dimensionality reduction: This technique involves transforming the original features into a lower-dimensional space while preserving most of the information in the data. The goal is to reduce the computational complexity of the problem and improve model performance by reducing the risk of overfitting. Dimensionality reduction methods include principal component analysis (PCA), singular value decomposition (SVD), and t-distributed stochastic neighbor embedding (t-SNE)."
   ]
  },
  {
   "cell_type": "code",
   "execution_count": null,
   "id": "aa89a54a",
   "metadata": {},
   "outputs": [],
   "source": [
    "**********************************************************************************************************************************"
   ]
  },
  {
   "cell_type": "code",
   "execution_count": null,
   "id": "3bd633a9",
   "metadata": {},
   "outputs": [],
   "source": [
    "4. Make quick notes on any two of the following:\n",
    "\n",
    "1. The histogram\n",
    "\n",
    "2. Use a scatter plot\n",
    "\n",
    "3.PCA (Personal Computer Aid)"
   ]
  },
  {
   "cell_type": "markdown",
   "id": "4b7b547f",
   "metadata": {},
   "source": [
    "1) Use a scatter plot :  A scatter plot is a type of graph used in data visualization to display the relationship between two continuous variables\n",
    "\n",
    "2) The histogram : A histogram is a graphical representation of the distribution of a continuous variable. It is commonly used in data analysis and visualization to show the shape, center, and spread of a dataset."
   ]
  },
  {
   "cell_type": "code",
   "execution_count": null,
   "id": "6b9a298d",
   "metadata": {},
   "outputs": [],
   "source": [
    "**********************************************************************************************************************************"
   ]
  },
  {
   "cell_type": "code",
   "execution_count": null,
   "id": "92596c6f",
   "metadata": {},
   "outputs": [],
   "source": [
    "5. Why is it necessary to investigate data? Is there a discrepancy in how qualitative and quantitative\n",
    "data are explored?"
   ]
  },
  {
   "cell_type": "markdown",
   "id": "3fc3bd10",
   "metadata": {},
   "source": [
    "Investigating data is crucial in order to gain insights and understanding about the information that is being analyzed. This process helps to identify patterns, trends, outliers, and potential relationships within the data, which can inform decision-making and further analysis.\n",
    "\n",
    "Qualitative and quantitative data are explored differently in machine learning. Qualitative data is typically explored through techniques such as content analysis, coding, and thematic analysis, which involve categorizing and interpreting textual or visual data. Quantitative data, on the other hand, is typically explored through statistical analysis, which involves analyzing numerical data to identify patterns and relationships."
   ]
  },
  {
   "cell_type": "code",
   "execution_count": null,
   "id": "ef396b9f",
   "metadata": {},
   "outputs": [],
   "source": [
    "**********************************************************************************************************************************"
   ]
  },
  {
   "cell_type": "code",
   "execution_count": null,
   "id": "84d969ed",
   "metadata": {},
   "outputs": [],
   "source": [
    "6. What are the various histogram shapes? What exactly are ‘bins'?"
   ]
  },
  {
   "cell_type": "markdown",
   "id": "efd0ae44",
   "metadata": {},
   "source": [
    "Histograms are a useful tool for visualizing the distribution of numerical data. The shape of a histogram can provide important insights into the underlying data distribution. Here are some common histogram shapes:\n",
    "\n",
    "Uniform: A uniform histogram has roughly the same number of observations in each bin, creating a flat shape.\n",
    "\n",
    "Bell-shaped (Normal): A bell-shaped histogram is symmetrical around its mean, forming a bell-shaped curve. This shape is commonly found in natural phenomena, such as the heights or weights of people.\n",
    "\n",
    "Skewed left or right: A histogram that is skewed to the left or right has a tail that extends to one side. A left-skewed histogram has a longer tail on the left side, and a right-skewed histogram has a longer tail on the right side. This shape often indicates that the data is not normally distributed.\n",
    "\n",
    "Bins are the intervals or ranges that the data is grouped into for the histogram"
   ]
  },
  {
   "cell_type": "code",
   "execution_count": null,
   "id": "cc08d44b",
   "metadata": {},
   "outputs": [],
   "source": [
    "**********************************************************************************************************************************"
   ]
  },
  {
   "cell_type": "code",
   "execution_count": null,
   "id": "886a4e03",
   "metadata": {},
   "outputs": [],
   "source": [
    "7. How do we deal with data outliers?"
   ]
  },
  {
   "cell_type": "markdown",
   "id": "e68f58c9",
   "metadata": {},
   "source": [
    "Outliers are data points that significantly deviate from the expected behavior of the majority of the data. They can negatively impact the performance of machine learning models by skewing the training process and resulting in inaccurate predictions.\n",
    "\n",
    "1) Remove the outliers: One of the simplest approaches is to remove the outliers from the dataset. However, this method can result in loss of valuable information and may not always be the best approach.\n",
    "\n",
    "2) Winsorization: In this approach, the extreme values are replaced with the nearest non-extreme value. For example, if the upper outlier is replaced with the maximum non-outlier value, and the lower outlier with the minimum non-outlier value.\n",
    "\n",
    "3) Transformation: Transforming the data using mathematical functions such as log or square root can also be used to reduce the impact of outliers.\n",
    "\n",
    "4) Using robust models: Robust models, such as decision trees and random forests, are less sensitive to outliers than linear models. These models use median or mode to split the data instead of the mean, making them more robust to outliers.\n",
    "\n",
    "5) Ensemble methods: Ensemble methods such as bagging and boosting can also help reduce the impact of outliers by combining multiple models and reducing their individual impact."
   ]
  },
  {
   "cell_type": "code",
   "execution_count": null,
   "id": "287cf733",
   "metadata": {},
   "outputs": [],
   "source": [
    "**********************************************************************************************************************************"
   ]
  },
  {
   "cell_type": "code",
   "execution_count": null,
   "id": "b53308f9",
   "metadata": {},
   "outputs": [],
   "source": [
    "8. What are the various central inclination measures? Why does mean vary too much from median in\n",
    "certain data sets?"
   ]
  },
  {
   "cell_type": "markdown",
   "id": "c3294276",
   "metadata": {},
   "source": [
    "In statistics, there are several measures of central inclination that are used to describe the typical or central value of a dataset. These include:\n",
    "\n",
    "1) Mean: This is the average of all the values in the dataset. It is calculated by adding up all the values and dividing by the number of values.\n",
    "\n",
    "2) Median: This is the middle value of the dataset when it is arranged in order. If there are an even number of values, the median is the average of the two middle values.\n",
    "\n",
    "3) Mode: This is the most frequently occurring value in the dataset.\n",
    "\n",
    "The mean can vary too much from the median in certain datasets because it is sensitive to extreme values, also known as outliers. Outliers can significantly impact the mean value, pulling it in the direction of the outlier. On the other hand, the median is less sensitive to outliers because it only takes into account the middle value(s) of the dataset"
   ]
  },
  {
   "cell_type": "code",
   "execution_count": null,
   "id": "17de1143",
   "metadata": {},
   "outputs": [],
   "source": [
    "**********************************************************************************************************************************"
   ]
  },
  {
   "cell_type": "code",
   "execution_count": null,
   "id": "06063ea7",
   "metadata": {},
   "outputs": [],
   "source": [
    "9. Describe how a scatter plot can be used to investigate bivariate relationships. Is it possible to find\n",
    "outliers using a scatter plot?"
   ]
  },
  {
   "cell_type": "markdown",
   "id": "58112537",
   "metadata": {},
   "source": [
    "A scatter plot is a visualization tool that can be used to investigate bivariate relationships between two variables. Each data point is plotted as a point on the graph, with one variable on the x-axis and the other variable on the y-axis. By examining the distribution of the points on the scatter plot, we can see if there is a positive or negative correlation between the two variables.\n",
    "\n",
    "Outliers can be identified using a scatter plot. Outliers are data points that are significantly different from the rest of the data points in the scatter plot. They can be located far away from the other points, or they may lie on an unusual pattern in the scatter plot. These points can be visually identified and further analyzed to determine if they are valid data points or if they should be removed from the dataset. Machine learning algorithms can also be used to detect outliers in scatter plots using statistical methods."
   ]
  },
  {
   "cell_type": "code",
   "execution_count": null,
   "id": "10b5cdf8",
   "metadata": {},
   "outputs": [],
   "source": [
    "**********************************************************************************************************************************"
   ]
  },
  {
   "cell_type": "code",
   "execution_count": null,
   "id": "1ceeced7",
   "metadata": {},
   "outputs": [],
   "source": [
    "10. Describe how cross-tabs can be used to figure out how two variables are related."
   ]
  },
  {
   "cell_type": "markdown",
   "id": "e1e08dfc",
   "metadata": {},
   "source": [
    "Cross-tabs, also known as contingency tables, are a statistical tool used to examine the relationship between two categorical variables. They display the frequency distribution of each variable and the joint distribution of their categories in a tabular format.\n",
    "\n",
    "In machine learning, cross-tabs can be used as a quick way to identify potential relationships between variables and to perform exploratory data analysis. By examining the frequencies of the categories in each variable, one can determine if there is a relationship between the two variables. For example, if one variable is gender and the other is favorite color, a cross-tab can show if there is a relationship between gender and color preference.\n",
    "\n",
    "Cross-tabs can also be used to calculate measures of association, such as the chi-square test, which can quantify the strength of the relationship between the variables. These measures can help determine if the relationship between the variables is statistically significant and can be used to make predictions or inform further analysis."
   ]
  },
  {
   "cell_type": "code",
   "execution_count": null,
   "id": "b56db6a2",
   "metadata": {},
   "outputs": [],
   "source": [
    "**********************************************************************************************************************************"
   ]
  },
  {
   "cell_type": "code",
   "execution_count": null,
   "id": "1669e07c",
   "metadata": {},
   "outputs": [],
   "source": []
  }
 ],
 "metadata": {
  "kernelspec": {
   "display_name": "Python 3 (ipykernel)",
   "language": "python",
   "name": "python3"
  },
  "language_info": {
   "codemirror_mode": {
    "name": "ipython",
    "version": 3
   },
   "file_extension": ".py",
   "mimetype": "text/x-python",
   "name": "python",
   "nbconvert_exporter": "python",
   "pygments_lexer": "ipython3",
   "version": "3.9.13"
  }
 },
 "nbformat": 4,
 "nbformat_minor": 5
}
